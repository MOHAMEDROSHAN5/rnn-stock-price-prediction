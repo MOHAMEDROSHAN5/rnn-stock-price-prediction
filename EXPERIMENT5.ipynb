{
  "nbformat": 4,
  "nbformat_minor": 0,
  "metadata": {
    "colab": {
      "provenance": []
    },
    "kernelspec": {
      "name": "python3",
      "display_name": "Python 3"
    },
    "language_info": {
      "name": "python"
    }
  },
  "cells": [
    {
      "cell_type": "markdown",
      "metadata": {
        "id": "view-in-github"
      },
      "source": [
        "<a href=\"https://colab.research.google.com/github/Shavedha/rnn-stock-price-prediction/blob/main/DL_Ex_05_27th_March_.ipynb\" target=\"_parent\"><img src=\"https://colab.research.google.com/assets/colab-badge.svg\" alt=\"Open In Colab\"/></a>"
      ]
    },
    {
      "cell_type": "code",
      "execution_count": 4,
      "metadata": {
        "id": "pfTvVXGpEDP7",
        "colab": {
          "base_uri": "https://localhost:8080/"
        },
        "outputId": "599ea41b-b20f-493d-bef4-6761a479e1e9"
      },
      "outputs": [
        {
          "output_type": "stream",
          "name": "stdout",
          "text": [
            "Mounted at /content/drive\n"
          ]
        }
      ],
      "source": [
        "import numpy as np\n",
        "import matplotlib.pyplot as plt\n",
        "import pandas as pd\n",
        "from sklearn.preprocessing import MinMaxScaler\n",
        "from keras import layers\n",
        "from keras.models import Sequential\n",
        "from google.colab import drive\n",
        "drive.mount('/content/drive')"
      ]
    },
    {
      "cell_type": "code",
      "source": [
        "dataset_train = pd.read_csv('/content/drive/MyDrive/Colab Notebooks/DEEP LEARNING/ex5/trainset.csv')"
      ],
      "metadata": {
        "id": "Gl_kuJLvEkxm"
      },
      "execution_count": 5,
      "outputs": []
    },
    {
      "cell_type": "code",
      "source": [
        "dataset_train.columns"
      ],
      "metadata": {
        "colab": {
          "base_uri": "https://localhost:8080/"
        },
        "id": "b-xNsbwEE_Dy",
        "outputId": "1322bd87-a65c-472b-e57a-13c3b5dc6440"
      },
      "execution_count": 6,
      "outputs": [
        {
          "output_type": "execute_result",
          "data": {
            "text/plain": [
              "Index(['Date', 'Open', 'High', 'Low', 'Close', 'Adj Close', 'Volume'], dtype='object')"
            ]
          },
          "metadata": {},
          "execution_count": 6
        }
      ]
    },
    {
      "cell_type": "code",
      "source": [
        "dataset_train.head()"
      ],
      "metadata": {
        "colab": {
          "base_uri": "https://localhost:8080/",
          "height": 206
        },
        "id": "X_T_VZC-FEW4",
        "outputId": "e07dd1a3-6f5a-43aa-93ff-71dc3de4405d"
      },
      "execution_count": 7,
      "outputs": [
        {
          "output_type": "execute_result",
          "data": {
            "text/plain": [
              "         Date        Open        High         Low       Close   Adj Close  \\\n",
              "0  2013-01-02  357.385559  361.151062  355.959839  359.288177  359.288177   \n",
              "1  2013-01-03  360.122742  363.600128  358.031342  359.496826  359.496826   \n",
              "2  2013-01-04  362.313507  368.339294  361.488861  366.600616  366.600616   \n",
              "3  2013-01-07  365.348755  367.301056  362.929504  365.001007  365.001007   \n",
              "4  2013-01-08  365.393463  365.771027  359.874359  364.280701  364.280701   \n",
              "\n",
              "    Volume  \n",
              "0  5115500  \n",
              "1  4666500  \n",
              "2  5562800  \n",
              "3  3332900  \n",
              "4  3373900  "
            ],
            "text/html": [
              "\n",
              "  <div id=\"df-e22c8af6-a5ba-400c-92cf-9a7fa3b34541\" class=\"colab-df-container\">\n",
              "    <div>\n",
              "<style scoped>\n",
              "    .dataframe tbody tr th:only-of-type {\n",
              "        vertical-align: middle;\n",
              "    }\n",
              "\n",
              "    .dataframe tbody tr th {\n",
              "        vertical-align: top;\n",
              "    }\n",
              "\n",
              "    .dataframe thead th {\n",
              "        text-align: right;\n",
              "    }\n",
              "</style>\n",
              "<table border=\"1\" class=\"dataframe\">\n",
              "  <thead>\n",
              "    <tr style=\"text-align: right;\">\n",
              "      <th></th>\n",
              "      <th>Date</th>\n",
              "      <th>Open</th>\n",
              "      <th>High</th>\n",
              "      <th>Low</th>\n",
              "      <th>Close</th>\n",
              "      <th>Adj Close</th>\n",
              "      <th>Volume</th>\n",
              "    </tr>\n",
              "  </thead>\n",
              "  <tbody>\n",
              "    <tr>\n",
              "      <th>0</th>\n",
              "      <td>2013-01-02</td>\n",
              "      <td>357.385559</td>\n",
              "      <td>361.151062</td>\n",
              "      <td>355.959839</td>\n",
              "      <td>359.288177</td>\n",
              "      <td>359.288177</td>\n",
              "      <td>5115500</td>\n",
              "    </tr>\n",
              "    <tr>\n",
              "      <th>1</th>\n",
              "      <td>2013-01-03</td>\n",
              "      <td>360.122742</td>\n",
              "      <td>363.600128</td>\n",
              "      <td>358.031342</td>\n",
              "      <td>359.496826</td>\n",
              "      <td>359.496826</td>\n",
              "      <td>4666500</td>\n",
              "    </tr>\n",
              "    <tr>\n",
              "      <th>2</th>\n",
              "      <td>2013-01-04</td>\n",
              "      <td>362.313507</td>\n",
              "      <td>368.339294</td>\n",
              "      <td>361.488861</td>\n",
              "      <td>366.600616</td>\n",
              "      <td>366.600616</td>\n",
              "      <td>5562800</td>\n",
              "    </tr>\n",
              "    <tr>\n",
              "      <th>3</th>\n",
              "      <td>2013-01-07</td>\n",
              "      <td>365.348755</td>\n",
              "      <td>367.301056</td>\n",
              "      <td>362.929504</td>\n",
              "      <td>365.001007</td>\n",
              "      <td>365.001007</td>\n",
              "      <td>3332900</td>\n",
              "    </tr>\n",
              "    <tr>\n",
              "      <th>4</th>\n",
              "      <td>2013-01-08</td>\n",
              "      <td>365.393463</td>\n",
              "      <td>365.771027</td>\n",
              "      <td>359.874359</td>\n",
              "      <td>364.280701</td>\n",
              "      <td>364.280701</td>\n",
              "      <td>3373900</td>\n",
              "    </tr>\n",
              "  </tbody>\n",
              "</table>\n",
              "</div>\n",
              "    <div class=\"colab-df-buttons\">\n",
              "\n",
              "  <div class=\"colab-df-container\">\n",
              "    <button class=\"colab-df-convert\" onclick=\"convertToInteractive('df-e22c8af6-a5ba-400c-92cf-9a7fa3b34541')\"\n",
              "            title=\"Convert this dataframe to an interactive table.\"\n",
              "            style=\"display:none;\">\n",
              "\n",
              "  <svg xmlns=\"http://www.w3.org/2000/svg\" height=\"24px\" viewBox=\"0 -960 960 960\">\n",
              "    <path d=\"M120-120v-720h720v720H120Zm60-500h600v-160H180v160Zm220 220h160v-160H400v160Zm0 220h160v-160H400v160ZM180-400h160v-160H180v160Zm440 0h160v-160H620v160ZM180-180h160v-160H180v160Zm440 0h160v-160H620v160Z\"/>\n",
              "  </svg>\n",
              "    </button>\n",
              "\n",
              "  <style>\n",
              "    .colab-df-container {\n",
              "      display:flex;\n",
              "      gap: 12px;\n",
              "    }\n",
              "\n",
              "    .colab-df-convert {\n",
              "      background-color: #E8F0FE;\n",
              "      border: none;\n",
              "      border-radius: 50%;\n",
              "      cursor: pointer;\n",
              "      display: none;\n",
              "      fill: #1967D2;\n",
              "      height: 32px;\n",
              "      padding: 0 0 0 0;\n",
              "      width: 32px;\n",
              "    }\n",
              "\n",
              "    .colab-df-convert:hover {\n",
              "      background-color: #E2EBFA;\n",
              "      box-shadow: 0px 1px 2px rgba(60, 64, 67, 0.3), 0px 1px 3px 1px rgba(60, 64, 67, 0.15);\n",
              "      fill: #174EA6;\n",
              "    }\n",
              "\n",
              "    .colab-df-buttons div {\n",
              "      margin-bottom: 4px;\n",
              "    }\n",
              "\n",
              "    [theme=dark] .colab-df-convert {\n",
              "      background-color: #3B4455;\n",
              "      fill: #D2E3FC;\n",
              "    }\n",
              "\n",
              "    [theme=dark] .colab-df-convert:hover {\n",
              "      background-color: #434B5C;\n",
              "      box-shadow: 0px 1px 3px 1px rgba(0, 0, 0, 0.15);\n",
              "      filter: drop-shadow(0px 1px 2px rgba(0, 0, 0, 0.3));\n",
              "      fill: #FFFFFF;\n",
              "    }\n",
              "  </style>\n",
              "\n",
              "    <script>\n",
              "      const buttonEl =\n",
              "        document.querySelector('#df-e22c8af6-a5ba-400c-92cf-9a7fa3b34541 button.colab-df-convert');\n",
              "      buttonEl.style.display =\n",
              "        google.colab.kernel.accessAllowed ? 'block' : 'none';\n",
              "\n",
              "      async function convertToInteractive(key) {\n",
              "        const element = document.querySelector('#df-e22c8af6-a5ba-400c-92cf-9a7fa3b34541');\n",
              "        const dataTable =\n",
              "          await google.colab.kernel.invokeFunction('convertToInteractive',\n",
              "                                                    [key], {});\n",
              "        if (!dataTable) return;\n",
              "\n",
              "        const docLinkHtml = 'Like what you see? Visit the ' +\n",
              "          '<a target=\"_blank\" href=https://colab.research.google.com/notebooks/data_table.ipynb>data table notebook</a>'\n",
              "          + ' to learn more about interactive tables.';\n",
              "        element.innerHTML = '';\n",
              "        dataTable['output_type'] = 'display_data';\n",
              "        await google.colab.output.renderOutput(dataTable, element);\n",
              "        const docLink = document.createElement('div');\n",
              "        docLink.innerHTML = docLinkHtml;\n",
              "        element.appendChild(docLink);\n",
              "      }\n",
              "    </script>\n",
              "  </div>\n",
              "\n",
              "\n",
              "<div id=\"df-62a06c27-45ea-421b-bc2b-65b41b0fdede\">\n",
              "  <button class=\"colab-df-quickchart\" onclick=\"quickchart('df-62a06c27-45ea-421b-bc2b-65b41b0fdede')\"\n",
              "            title=\"Suggest charts\"\n",
              "            style=\"display:none;\">\n",
              "\n",
              "<svg xmlns=\"http://www.w3.org/2000/svg\" height=\"24px\"viewBox=\"0 0 24 24\"\n",
              "     width=\"24px\">\n",
              "    <g>\n",
              "        <path d=\"M19 3H5c-1.1 0-2 .9-2 2v14c0 1.1.9 2 2 2h14c1.1 0 2-.9 2-2V5c0-1.1-.9-2-2-2zM9 17H7v-7h2v7zm4 0h-2V7h2v10zm4 0h-2v-4h2v4z\"/>\n",
              "    </g>\n",
              "</svg>\n",
              "  </button>\n",
              "\n",
              "<style>\n",
              "  .colab-df-quickchart {\n",
              "      --bg-color: #E8F0FE;\n",
              "      --fill-color: #1967D2;\n",
              "      --hover-bg-color: #E2EBFA;\n",
              "      --hover-fill-color: #174EA6;\n",
              "      --disabled-fill-color: #AAA;\n",
              "      --disabled-bg-color: #DDD;\n",
              "  }\n",
              "\n",
              "  [theme=dark] .colab-df-quickchart {\n",
              "      --bg-color: #3B4455;\n",
              "      --fill-color: #D2E3FC;\n",
              "      --hover-bg-color: #434B5C;\n",
              "      --hover-fill-color: #FFFFFF;\n",
              "      --disabled-bg-color: #3B4455;\n",
              "      --disabled-fill-color: #666;\n",
              "  }\n",
              "\n",
              "  .colab-df-quickchart {\n",
              "    background-color: var(--bg-color);\n",
              "    border: none;\n",
              "    border-radius: 50%;\n",
              "    cursor: pointer;\n",
              "    display: none;\n",
              "    fill: var(--fill-color);\n",
              "    height: 32px;\n",
              "    padding: 0;\n",
              "    width: 32px;\n",
              "  }\n",
              "\n",
              "  .colab-df-quickchart:hover {\n",
              "    background-color: var(--hover-bg-color);\n",
              "    box-shadow: 0 1px 2px rgba(60, 64, 67, 0.3), 0 1px 3px 1px rgba(60, 64, 67, 0.15);\n",
              "    fill: var(--button-hover-fill-color);\n",
              "  }\n",
              "\n",
              "  .colab-df-quickchart-complete:disabled,\n",
              "  .colab-df-quickchart-complete:disabled:hover {\n",
              "    background-color: var(--disabled-bg-color);\n",
              "    fill: var(--disabled-fill-color);\n",
              "    box-shadow: none;\n",
              "  }\n",
              "\n",
              "  .colab-df-spinner {\n",
              "    border: 2px solid var(--fill-color);\n",
              "    border-color: transparent;\n",
              "    border-bottom-color: var(--fill-color);\n",
              "    animation:\n",
              "      spin 1s steps(1) infinite;\n",
              "  }\n",
              "\n",
              "  @keyframes spin {\n",
              "    0% {\n",
              "      border-color: transparent;\n",
              "      border-bottom-color: var(--fill-color);\n",
              "      border-left-color: var(--fill-color);\n",
              "    }\n",
              "    20% {\n",
              "      border-color: transparent;\n",
              "      border-left-color: var(--fill-color);\n",
              "      border-top-color: var(--fill-color);\n",
              "    }\n",
              "    30% {\n",
              "      border-color: transparent;\n",
              "      border-left-color: var(--fill-color);\n",
              "      border-top-color: var(--fill-color);\n",
              "      border-right-color: var(--fill-color);\n",
              "    }\n",
              "    40% {\n",
              "      border-color: transparent;\n",
              "      border-right-color: var(--fill-color);\n",
              "      border-top-color: var(--fill-color);\n",
              "    }\n",
              "    60% {\n",
              "      border-color: transparent;\n",
              "      border-right-color: var(--fill-color);\n",
              "    }\n",
              "    80% {\n",
              "      border-color: transparent;\n",
              "      border-right-color: var(--fill-color);\n",
              "      border-bottom-color: var(--fill-color);\n",
              "    }\n",
              "    90% {\n",
              "      border-color: transparent;\n",
              "      border-bottom-color: var(--fill-color);\n",
              "    }\n",
              "  }\n",
              "</style>\n",
              "\n",
              "  <script>\n",
              "    async function quickchart(key) {\n",
              "      const quickchartButtonEl =\n",
              "        document.querySelector('#' + key + ' button');\n",
              "      quickchartButtonEl.disabled = true;  // To prevent multiple clicks.\n",
              "      quickchartButtonEl.classList.add('colab-df-spinner');\n",
              "      try {\n",
              "        const charts = await google.colab.kernel.invokeFunction(\n",
              "            'suggestCharts', [key], {});\n",
              "      } catch (error) {\n",
              "        console.error('Error during call to suggestCharts:', error);\n",
              "      }\n",
              "      quickchartButtonEl.classList.remove('colab-df-spinner');\n",
              "      quickchartButtonEl.classList.add('colab-df-quickchart-complete');\n",
              "    }\n",
              "    (() => {\n",
              "      let quickchartButtonEl =\n",
              "        document.querySelector('#df-62a06c27-45ea-421b-bc2b-65b41b0fdede button');\n",
              "      quickchartButtonEl.style.display =\n",
              "        google.colab.kernel.accessAllowed ? 'block' : 'none';\n",
              "    })();\n",
              "  </script>\n",
              "</div>\n",
              "\n",
              "    </div>\n",
              "  </div>\n"
            ],
            "application/vnd.google.colaboratory.intrinsic+json": {
              "type": "dataframe",
              "variable_name": "dataset_train",
              "summary": "{\n  \"name\": \"dataset_train\",\n  \"rows\": 1259,\n  \"fields\": [\n    {\n      \"column\": \"Date\",\n      \"properties\": {\n        \"dtype\": \"object\",\n        \"num_unique_values\": 1259,\n        \"samples\": [\n          \"2013-04-23\",\n          \"2017-01-30\",\n          \"2013-03-06\"\n        ],\n        \"semantic_type\": \"\",\n        \"description\": \"\"\n      }\n    },\n    {\n      \"column\": \"Open\",\n      \"properties\": {\n        \"dtype\": \"number\",\n        \"std\": 175.63057351209417,\n        \"min\": 350.053253,\n        \"max\": 1075.199951,\n        \"num_unique_values\": 1228,\n        \"samples\": [\n          727.580017,\n          524.118103,\n          553.40564\n        ],\n        \"semantic_type\": \"\",\n        \"description\": \"\"\n      }\n    },\n    {\n      \"column\": \"High\",\n      \"properties\": {\n        \"dtype\": \"number\",\n        \"std\": 176.62741611717948,\n        \"min\": 350.391052,\n        \"max\": 1078.48999,\n        \"num_unique_values\": 1239,\n        \"samples\": [\n          580.309143,\n          577.489014,\n          517.056946\n        ],\n        \"semantic_type\": \"\",\n        \"description\": \"\"\n      }\n    },\n    {\n      \"column\": \"Low\",\n      \"properties\": {\n        \"dtype\": \"number\",\n        \"std\": 174.73281352959697,\n        \"min\": 345.512787,\n        \"max\": 1063.550049,\n        \"num_unique_values\": 1240,\n        \"samples\": [\n          576.052551,\n          568.403076,\n          518.469177\n        ],\n        \"semantic_type\": \"\",\n        \"description\": \"\"\n      }\n    },\n    {\n      \"column\": \"Close\",\n      \"properties\": {\n        \"dtype\": \"number\",\n        \"std\": 175.82099273815913,\n        \"min\": 349.164032,\n        \"max\": 1077.140015,\n        \"num_unique_values\": 1245,\n        \"samples\": [\n          749.460022,\n          557.812866,\n          927.330017\n        ],\n        \"semantic_type\": \"\",\n        \"description\": \"\"\n      }\n    },\n    {\n      \"column\": \"Adj Close\",\n      \"properties\": {\n        \"dtype\": \"number\",\n        \"std\": 175.82099273815913,\n        \"min\": 349.164032,\n        \"max\": 1077.140015,\n        \"num_unique_values\": 1245,\n        \"samples\": [\n          749.460022,\n          557.812866,\n          927.330017\n        ],\n        \"semantic_type\": \"\",\n        \"description\": \"\"\n      }\n    },\n    {\n      \"column\": \"Volume\",\n      \"properties\": {\n        \"dtype\": \"number\",\n        \"std\": 1672159,\n        \"min\": 7900,\n        \"max\": 23283100,\n        \"num_unique_values\": 1228,\n        \"samples\": [\n          1837200,\n          2000000,\n          1477800\n        ],\n        \"semantic_type\": \"\",\n        \"description\": \"\"\n      }\n    }\n  ]\n}"
            }
          },
          "metadata": {},
          "execution_count": 7
        }
      ]
    },
    {
      "cell_type": "code",
      "source": [
        "train_set = dataset_train.iloc[:,1:2].values"
      ],
      "metadata": {
        "id": "PjGYJFgmFLH0"
      },
      "execution_count": 8,
      "outputs": []
    },
    {
      "cell_type": "code",
      "source": [
        "type(train_set)"
      ],
      "metadata": {
        "colab": {
          "base_uri": "https://localhost:8080/"
        },
        "id": "MUifT3irFIm5",
        "outputId": "f3c966d5-1711-4a0a-e340-55a14ce4a336"
      },
      "execution_count": 9,
      "outputs": [
        {
          "output_type": "execute_result",
          "data": {
            "text/plain": [
              "numpy.ndarray"
            ]
          },
          "metadata": {},
          "execution_count": 9
        }
      ]
    },
    {
      "cell_type": "code",
      "source": [
        "train_set.shape"
      ],
      "metadata": {
        "colab": {
          "base_uri": "https://localhost:8080/"
        },
        "id": "ZwilMpUtFTRO",
        "outputId": "635fd4f9-3e9a-425b-d1ec-6684281611e4"
      },
      "execution_count": 10,
      "outputs": [
        {
          "output_type": "execute_result",
          "data": {
            "text/plain": [
              "(1259, 1)"
            ]
          },
          "metadata": {},
          "execution_count": 10
        }
      ]
    },
    {
      "cell_type": "code",
      "source": [
        "sc = MinMaxScaler(feature_range=(0,1))\n",
        "training_set_scaled = sc.fit_transform(train_set)"
      ],
      "metadata": {
        "id": "jbsczZI3FS3v"
      },
      "execution_count": 11,
      "outputs": []
    },
    {
      "cell_type": "code",
      "source": [
        "training_set_scaled.shape\n"
      ],
      "metadata": {
        "colab": {
          "base_uri": "https://localhost:8080/"
        },
        "id": "LuvzXs4IFSp4",
        "outputId": "1ae126a6-2021-4999-b8dd-53d33c2ac73b"
      },
      "execution_count": 12,
      "outputs": [
        {
          "output_type": "execute_result",
          "data": {
            "text/plain": [
              "(1259, 1)"
            ]
          },
          "metadata": {},
          "execution_count": 12
        }
      ]
    },
    {
      "cell_type": "code",
      "source": [
        "X_train_array = []\n",
        "y_train_array = []\n",
        "for i in range(60, 1259):\n",
        "  X_train_array.append(training_set_scaled[i-60:i,0])\n",
        "  y_train_array.append(training_set_scaled[i,0])\n",
        "X_train, y_train = np.array(X_train_array), np.array(y_train_array)\n",
        "X_train1 = X_train.reshape((X_train.shape[0], X_train.shape[1],1))"
      ],
      "metadata": {
        "id": "rQKHf9oQFgRp"
      },
      "execution_count": 13,
      "outputs": []
    },
    {
      "cell_type": "code",
      "source": [
        "X_train.shape"
      ],
      "metadata": {
        "colab": {
          "base_uri": "https://localhost:8080/"
        },
        "id": "J_uEMsgaFtsr",
        "outputId": "92ff4355-2db0-4c03-fa99-62ff4f2ffc2b"
      },
      "execution_count": 14,
      "outputs": [
        {
          "output_type": "execute_result",
          "data": {
            "text/plain": [
              "(1199, 60)"
            ]
          },
          "metadata": {},
          "execution_count": 14
        }
      ]
    },
    {
      "cell_type": "code",
      "source": [
        "length = 60\n",
        "n_features = 1"
      ],
      "metadata": {
        "id": "T-dFIyoKFxTC"
      },
      "execution_count": 15,
      "outputs": []
    },
    {
      "cell_type": "code",
      "source": [
        "model = Sequential()\n",
        "model.add(layers.SimpleRNN(50,input_shape=(length,n_features)))\n",
        "model.add(layers.Dense(1))\n",
        "model.compile(optimizer='adam', loss='mse')"
      ],
      "metadata": {
        "id": "zEw-3AyiF1ZU"
      },
      "execution_count": 16,
      "outputs": []
    },
    {
      "cell_type": "code",
      "source": [
        "print(\"Name: MOHAMED ROSHAN S    Register Number: 2122220101 \")\n",
        "model.summary()"
      ],
      "metadata": {
        "colab": {
          "base_uri": "https://localhost:8080/"
        },
        "id": "s32WO9RoF1Wn",
        "outputId": "e3786625-3d13-496a-9268-10841ce7f5bf"
      },
      "execution_count": 17,
      "outputs": [
        {
          "output_type": "stream",
          "name": "stdout",
          "text": [
            "Name: MOHAMED ROSHAN S    Register Number: 2122220101 \n",
            "Model: \"sequential\"\n",
            "_________________________________________________________________\n",
            " Layer (type)                Output Shape              Param #   \n",
            "=================================================================\n",
            " simple_rnn (SimpleRNN)      (None, 50)                2600      \n",
            "                                                                 \n",
            " dense (Dense)               (None, 1)                 51        \n",
            "                                                                 \n",
            "=================================================================\n",
            "Total params: 2651 (10.36 KB)\n",
            "Trainable params: 2651 (10.36 KB)\n",
            "Non-trainable params: 0 (0.00 Byte)\n",
            "_________________________________________________________________\n"
          ]
        }
      ]
    },
    {
      "cell_type": "code",
      "source": [
        "model.fit(X_train1,y_train,epochs=200, batch_size=32)"
      ],
      "metadata": {
        "colab": {
          "base_uri": "https://localhost:8080/"
        },
        "id": "cXOzkWe9F1U6",
        "outputId": "c2be517e-fb17-466d-e146-ea45a5578894"
      },
      "execution_count": 30,
      "outputs": [
        {
          "output_type": "stream",
          "name": "stdout",
          "text": [
            "Epoch 1/200\n",
            "38/38 [==============================] - 1s 17ms/step - loss: 1.6418e-04\n",
            "Epoch 2/200\n",
            "38/38 [==============================] - 0s 8ms/step - loss: 1.5971e-04\n",
            "Epoch 3/200\n",
            "38/38 [==============================] - 0s 12ms/step - loss: 1.6508e-04\n",
            "Epoch 4/200\n",
            "38/38 [==============================] - 0s 10ms/step - loss: 1.7507e-04\n",
            "Epoch 5/200\n",
            "38/38 [==============================] - 0s 10ms/step - loss: 1.8379e-04\n",
            "Epoch 6/200\n",
            "38/38 [==============================] - 0s 12ms/step - loss: 1.7545e-04\n",
            "Epoch 7/200\n",
            "38/38 [==============================] - 0s 12ms/step - loss: 1.6450e-04\n",
            "Epoch 8/200\n",
            "38/38 [==============================] - 0s 9ms/step - loss: 1.6372e-04\n",
            "Epoch 9/200\n",
            "38/38 [==============================] - 0s 7ms/step - loss: 1.5845e-04\n",
            "Epoch 10/200\n",
            "38/38 [==============================] - 0s 7ms/step - loss: 1.6319e-04\n",
            "Epoch 11/200\n",
            "38/38 [==============================] - 0s 6ms/step - loss: 1.7976e-04\n",
            "Epoch 12/200\n",
            "38/38 [==============================] - 0s 7ms/step - loss: 1.6547e-04\n",
            "Epoch 13/200\n",
            "38/38 [==============================] - 0s 7ms/step - loss: 2.0168e-04\n",
            "Epoch 14/200\n",
            "38/38 [==============================] - 1s 15ms/step - loss: 1.6522e-04\n",
            "Epoch 15/200\n",
            "38/38 [==============================] - 1s 18ms/step - loss: 1.9699e-04\n",
            "Epoch 16/200\n",
            "38/38 [==============================] - 0s 7ms/step - loss: 1.8742e-04\n",
            "Epoch 17/200\n",
            "38/38 [==============================] - 0s 7ms/step - loss: 1.6217e-04\n",
            "Epoch 18/200\n",
            "38/38 [==============================] - 0s 7ms/step - loss: 1.6690e-04\n",
            "Epoch 19/200\n",
            "38/38 [==============================] - 0s 7ms/step - loss: 1.7016e-04\n",
            "Epoch 20/200\n",
            "38/38 [==============================] - 0s 7ms/step - loss: 1.8170e-04\n",
            "Epoch 21/200\n",
            "38/38 [==============================] - 0s 8ms/step - loss: 1.7113e-04\n",
            "Epoch 22/200\n",
            "38/38 [==============================] - 0s 7ms/step - loss: 1.6719e-04\n",
            "Epoch 23/200\n",
            "38/38 [==============================] - 0s 7ms/step - loss: 1.6301e-04\n",
            "Epoch 24/200\n",
            "38/38 [==============================] - 0s 7ms/step - loss: 1.7572e-04\n",
            "Epoch 25/200\n",
            "38/38 [==============================] - 0s 7ms/step - loss: 1.8667e-04\n",
            "Epoch 26/200\n",
            "38/38 [==============================] - 0s 7ms/step - loss: 1.7539e-04\n",
            "Epoch 27/200\n",
            "38/38 [==============================] - 0s 7ms/step - loss: 1.6469e-04\n",
            "Epoch 28/200\n",
            "38/38 [==============================] - 0s 7ms/step - loss: 1.5906e-04\n",
            "Epoch 29/200\n",
            "38/38 [==============================] - 0s 7ms/step - loss: 1.6891e-04\n",
            "Epoch 30/200\n",
            "38/38 [==============================] - 0s 7ms/step - loss: 1.7606e-04\n",
            "Epoch 31/200\n",
            "38/38 [==============================] - 0s 7ms/step - loss: 1.8691e-04\n",
            "Epoch 32/200\n",
            "38/38 [==============================] - 0s 6ms/step - loss: 1.6236e-04\n",
            "Epoch 33/200\n",
            "38/38 [==============================] - 0s 7ms/step - loss: 1.9524e-04\n",
            "Epoch 34/200\n",
            "38/38 [==============================] - 0s 7ms/step - loss: 2.0745e-04\n",
            "Epoch 35/200\n",
            "38/38 [==============================] - 0s 7ms/step - loss: 1.5840e-04\n",
            "Epoch 36/200\n",
            "38/38 [==============================] - 0s 7ms/step - loss: 1.5575e-04\n",
            "Epoch 37/200\n",
            "38/38 [==============================] - 0s 7ms/step - loss: 1.5758e-04\n",
            "Epoch 38/200\n",
            "38/38 [==============================] - 0s 7ms/step - loss: 1.6582e-04\n",
            "Epoch 39/200\n",
            "38/38 [==============================] - 0s 7ms/step - loss: 1.6354e-04\n",
            "Epoch 40/200\n",
            "38/38 [==============================] - 0s 6ms/step - loss: 1.6633e-04\n",
            "Epoch 41/200\n",
            "38/38 [==============================] - 0s 7ms/step - loss: 1.6656e-04\n",
            "Epoch 42/200\n",
            "38/38 [==============================] - 0s 8ms/step - loss: 1.6513e-04\n",
            "Epoch 43/200\n",
            "38/38 [==============================] - 0s 11ms/step - loss: 1.6022e-04\n",
            "Epoch 44/200\n",
            "38/38 [==============================] - 0s 10ms/step - loss: 1.7819e-04\n",
            "Epoch 45/200\n",
            "38/38 [==============================] - 0s 10ms/step - loss: 1.8308e-04\n",
            "Epoch 46/200\n",
            "38/38 [==============================] - 0s 12ms/step - loss: 1.7007e-04\n",
            "Epoch 47/200\n",
            "38/38 [==============================] - 0s 11ms/step - loss: 1.6800e-04\n",
            "Epoch 48/200\n",
            "38/38 [==============================] - 0s 8ms/step - loss: 1.6387e-04\n",
            "Epoch 49/200\n",
            "38/38 [==============================] - 0s 7ms/step - loss: 1.6556e-04\n",
            "Epoch 50/200\n",
            "38/38 [==============================] - 0s 7ms/step - loss: 1.6224e-04\n",
            "Epoch 51/200\n",
            "38/38 [==============================] - 0s 7ms/step - loss: 1.5968e-04\n",
            "Epoch 52/200\n",
            "38/38 [==============================] - 0s 7ms/step - loss: 1.6271e-04\n",
            "Epoch 53/200\n",
            "38/38 [==============================] - 0s 7ms/step - loss: 1.8190e-04\n",
            "Epoch 54/200\n",
            "38/38 [==============================] - 0s 7ms/step - loss: 1.7032e-04\n",
            "Epoch 55/200\n",
            "38/38 [==============================] - 0s 7ms/step - loss: 1.6799e-04\n",
            "Epoch 56/200\n",
            "38/38 [==============================] - 0s 8ms/step - loss: 1.6535e-04\n",
            "Epoch 57/200\n",
            "38/38 [==============================] - 0s 8ms/step - loss: 1.6514e-04\n",
            "Epoch 58/200\n",
            "38/38 [==============================] - 0s 8ms/step - loss: 1.6452e-04\n",
            "Epoch 59/200\n",
            "38/38 [==============================] - 0s 7ms/step - loss: 1.6690e-04\n",
            "Epoch 60/200\n",
            "38/38 [==============================] - 0s 7ms/step - loss: 1.6878e-04\n",
            "Epoch 61/200\n",
            "38/38 [==============================] - 0s 7ms/step - loss: 1.6007e-04\n",
            "Epoch 62/200\n",
            "38/38 [==============================] - 0s 7ms/step - loss: 1.6525e-04\n",
            "Epoch 63/200\n",
            "38/38 [==============================] - 0s 7ms/step - loss: 1.6678e-04\n",
            "Epoch 64/200\n",
            "38/38 [==============================] - 0s 7ms/step - loss: 1.7397e-04\n",
            "Epoch 65/200\n",
            "38/38 [==============================] - 0s 6ms/step - loss: 1.7348e-04\n",
            "Epoch 66/200\n",
            "38/38 [==============================] - 0s 7ms/step - loss: 1.5790e-04\n",
            "Epoch 67/200\n",
            "38/38 [==============================] - 0s 7ms/step - loss: 1.7669e-04\n",
            "Epoch 68/200\n",
            "38/38 [==============================] - 0s 7ms/step - loss: 1.7197e-04\n",
            "Epoch 69/200\n",
            "38/38 [==============================] - 0s 7ms/step - loss: 1.6852e-04\n",
            "Epoch 70/200\n",
            "38/38 [==============================] - 0s 8ms/step - loss: 1.6466e-04\n",
            "Epoch 71/200\n",
            "38/38 [==============================] - 0s 8ms/step - loss: 1.7287e-04\n",
            "Epoch 72/200\n",
            "38/38 [==============================] - 0s 8ms/step - loss: 1.6134e-04\n",
            "Epoch 73/200\n",
            "38/38 [==============================] - 0s 7ms/step - loss: 1.7307e-04\n",
            "Epoch 74/200\n",
            "38/38 [==============================] - 0s 8ms/step - loss: 1.6700e-04\n",
            "Epoch 75/200\n",
            "38/38 [==============================] - 0s 8ms/step - loss: 1.5910e-04\n",
            "Epoch 76/200\n",
            "38/38 [==============================] - 0s 8ms/step - loss: 1.6038e-04\n",
            "Epoch 77/200\n",
            "38/38 [==============================] - 0s 7ms/step - loss: 1.7505e-04\n",
            "Epoch 78/200\n",
            "38/38 [==============================] - 0s 8ms/step - loss: 1.6831e-04\n",
            "Epoch 79/200\n",
            "38/38 [==============================] - 0s 7ms/step - loss: 1.9627e-04\n",
            "Epoch 80/200\n",
            "38/38 [==============================] - 0s 8ms/step - loss: 1.6045e-04\n",
            "Epoch 81/200\n",
            "38/38 [==============================] - 0s 8ms/step - loss: 1.6262e-04\n",
            "Epoch 82/200\n",
            "38/38 [==============================] - 0s 8ms/step - loss: 1.8318e-04\n",
            "Epoch 83/200\n",
            "38/38 [==============================] - 0s 10ms/step - loss: 1.7589e-04\n",
            "Epoch 84/200\n",
            "38/38 [==============================] - 0s 10ms/step - loss: 1.8032e-04\n",
            "Epoch 85/200\n",
            "38/38 [==============================] - 0s 10ms/step - loss: 1.6485e-04\n",
            "Epoch 86/200\n",
            "38/38 [==============================] - 0s 10ms/step - loss: 2.0237e-04\n",
            "Epoch 87/200\n",
            "38/38 [==============================] - 0s 12ms/step - loss: 1.6583e-04\n",
            "Epoch 88/200\n",
            "38/38 [==============================] - 0s 11ms/step - loss: 1.6224e-04\n",
            "Epoch 89/200\n",
            "38/38 [==============================] - 0s 7ms/step - loss: 1.6594e-04\n",
            "Epoch 90/200\n",
            "38/38 [==============================] - 0s 7ms/step - loss: 1.7262e-04\n",
            "Epoch 91/200\n",
            "38/38 [==============================] - 0s 7ms/step - loss: 1.7821e-04\n",
            "Epoch 92/200\n",
            "38/38 [==============================] - 0s 7ms/step - loss: 1.5964e-04\n",
            "Epoch 93/200\n",
            "38/38 [==============================] - 0s 7ms/step - loss: 1.6424e-04\n",
            "Epoch 94/200\n",
            "38/38 [==============================] - 0s 7ms/step - loss: 1.5909e-04\n",
            "Epoch 95/200\n",
            "38/38 [==============================] - 0s 7ms/step - loss: 1.7208e-04\n",
            "Epoch 96/200\n",
            "38/38 [==============================] - 0s 7ms/step - loss: 1.7050e-04\n",
            "Epoch 97/200\n",
            "38/38 [==============================] - 0s 7ms/step - loss: 1.6349e-04\n",
            "Epoch 98/200\n",
            "38/38 [==============================] - 0s 7ms/step - loss: 1.7541e-04\n",
            "Epoch 99/200\n",
            "38/38 [==============================] - 0s 7ms/step - loss: 1.5763e-04\n",
            "Epoch 100/200\n",
            "38/38 [==============================] - 0s 7ms/step - loss: 1.6835e-04\n",
            "Epoch 101/200\n",
            "38/38 [==============================] - 0s 7ms/step - loss: 1.8221e-04\n",
            "Epoch 102/200\n",
            "38/38 [==============================] - 0s 7ms/step - loss: 1.8277e-04\n",
            "Epoch 103/200\n",
            "38/38 [==============================] - 0s 7ms/step - loss: 1.8066e-04\n",
            "Epoch 104/200\n",
            "38/38 [==============================] - 0s 6ms/step - loss: 1.8049e-04\n",
            "Epoch 105/200\n",
            "38/38 [==============================] - 0s 7ms/step - loss: 1.9330e-04\n",
            "Epoch 106/200\n",
            "38/38 [==============================] - 0s 6ms/step - loss: 1.6029e-04\n",
            "Epoch 107/200\n",
            "38/38 [==============================] - 0s 7ms/step - loss: 1.6238e-04\n",
            "Epoch 108/200\n",
            "38/38 [==============================] - 0s 7ms/step - loss: 1.6142e-04\n",
            "Epoch 109/200\n",
            "38/38 [==============================] - 0s 8ms/step - loss: 1.6931e-04\n",
            "Epoch 110/200\n",
            "38/38 [==============================] - 0s 7ms/step - loss: 1.6570e-04\n",
            "Epoch 111/200\n",
            "38/38 [==============================] - 0s 7ms/step - loss: 1.7027e-04\n",
            "Epoch 112/200\n",
            "38/38 [==============================] - 0s 7ms/step - loss: 1.8208e-04\n",
            "Epoch 113/200\n",
            "38/38 [==============================] - 0s 7ms/step - loss: 1.7073e-04\n",
            "Epoch 114/200\n",
            "38/38 [==============================] - 0s 7ms/step - loss: 1.6594e-04\n",
            "Epoch 115/200\n",
            "38/38 [==============================] - 0s 7ms/step - loss: 1.6391e-04\n",
            "Epoch 116/200\n",
            "38/38 [==============================] - 0s 7ms/step - loss: 1.9203e-04\n",
            "Epoch 117/200\n",
            "38/38 [==============================] - 0s 7ms/step - loss: 1.7212e-04\n",
            "Epoch 118/200\n",
            "38/38 [==============================] - 0s 7ms/step - loss: 1.7657e-04\n",
            "Epoch 119/200\n",
            "38/38 [==============================] - 0s 7ms/step - loss: 1.6188e-04\n",
            "Epoch 120/200\n",
            "38/38 [==============================] - 0s 8ms/step - loss: 1.6388e-04\n",
            "Epoch 121/200\n",
            "38/38 [==============================] - 0s 7ms/step - loss: 1.6466e-04\n",
            "Epoch 122/200\n",
            "38/38 [==============================] - 0s 7ms/step - loss: 1.6179e-04\n",
            "Epoch 123/200\n",
            "38/38 [==============================] - 0s 7ms/step - loss: 1.6336e-04\n",
            "Epoch 124/200\n",
            "38/38 [==============================] - 0s 8ms/step - loss: 1.7211e-04\n",
            "Epoch 125/200\n",
            "38/38 [==============================] - 0s 10ms/step - loss: 1.7187e-04\n",
            "Epoch 126/200\n",
            "38/38 [==============================] - 0s 11ms/step - loss: 1.7627e-04\n",
            "Epoch 127/200\n",
            "38/38 [==============================] - 1s 13ms/step - loss: 1.6374e-04\n",
            "Epoch 128/200\n",
            "38/38 [==============================] - 0s 11ms/step - loss: 1.6263e-04\n",
            "Epoch 129/200\n",
            "38/38 [==============================] - 0s 12ms/step - loss: 1.6086e-04\n",
            "Epoch 130/200\n",
            "38/38 [==============================] - 0s 9ms/step - loss: 1.6270e-04\n",
            "Epoch 131/200\n",
            "38/38 [==============================] - 0s 7ms/step - loss: 1.7127e-04\n",
            "Epoch 132/200\n",
            "38/38 [==============================] - 0s 7ms/step - loss: 1.6861e-04\n",
            "Epoch 133/200\n",
            "38/38 [==============================] - 0s 7ms/step - loss: 1.6150e-04\n",
            "Epoch 134/200\n",
            "38/38 [==============================] - 0s 7ms/step - loss: 1.6290e-04\n",
            "Epoch 135/200\n",
            "38/38 [==============================] - 0s 7ms/step - loss: 1.6961e-04\n",
            "Epoch 136/200\n",
            "38/38 [==============================] - 0s 7ms/step - loss: 1.7067e-04\n",
            "Epoch 137/200\n",
            "38/38 [==============================] - 0s 7ms/step - loss: 1.6366e-04\n",
            "Epoch 138/200\n",
            "38/38 [==============================] - 0s 7ms/step - loss: 1.6477e-04\n",
            "Epoch 139/200\n",
            "38/38 [==============================] - 0s 7ms/step - loss: 1.6025e-04\n",
            "Epoch 140/200\n",
            "38/38 [==============================] - 0s 7ms/step - loss: 1.6466e-04\n",
            "Epoch 141/200\n",
            "38/38 [==============================] - 0s 7ms/step - loss: 1.6708e-04\n",
            "Epoch 142/200\n",
            "38/38 [==============================] - 0s 7ms/step - loss: 1.6917e-04\n",
            "Epoch 143/200\n",
            "38/38 [==============================] - 0s 7ms/step - loss: 1.6785e-04\n",
            "Epoch 144/200\n",
            "38/38 [==============================] - 0s 7ms/step - loss: 1.6854e-04\n",
            "Epoch 145/200\n",
            "38/38 [==============================] - 0s 7ms/step - loss: 1.6947e-04\n",
            "Epoch 146/200\n",
            "38/38 [==============================] - 0s 7ms/step - loss: 1.6490e-04\n",
            "Epoch 147/200\n",
            "38/38 [==============================] - 0s 7ms/step - loss: 1.6329e-04\n",
            "Epoch 148/200\n",
            "38/38 [==============================] - 0s 7ms/step - loss: 1.7061e-04\n",
            "Epoch 149/200\n",
            "38/38 [==============================] - 0s 7ms/step - loss: 1.7711e-04\n",
            "Epoch 150/200\n",
            "38/38 [==============================] - 0s 7ms/step - loss: 1.6732e-04\n",
            "Epoch 151/200\n",
            "38/38 [==============================] - 0s 7ms/step - loss: 1.7836e-04\n",
            "Epoch 152/200\n",
            "38/38 [==============================] - 0s 7ms/step - loss: 1.6443e-04\n",
            "Epoch 153/200\n",
            "38/38 [==============================] - 0s 7ms/step - loss: 1.7572e-04\n",
            "Epoch 154/200\n",
            "38/38 [==============================] - 0s 7ms/step - loss: 1.6686e-04\n",
            "Epoch 155/200\n",
            "38/38 [==============================] - 0s 7ms/step - loss: 1.7148e-04\n",
            "Epoch 156/200\n",
            "38/38 [==============================] - 0s 12ms/step - loss: 1.6209e-04\n",
            "Epoch 157/200\n",
            "38/38 [==============================] - 0s 12ms/step - loss: 1.6850e-04\n",
            "Epoch 158/200\n",
            "38/38 [==============================] - 0s 7ms/step - loss: 1.6561e-04\n",
            "Epoch 159/200\n",
            "38/38 [==============================] - 1s 21ms/step - loss: 1.6247e-04\n",
            "Epoch 160/200\n",
            "38/38 [==============================] - 0s 7ms/step - loss: 1.6501e-04\n",
            "Epoch 161/200\n",
            "38/38 [==============================] - 0s 9ms/step - loss: 1.6223e-04\n",
            "Epoch 162/200\n",
            "38/38 [==============================] - 1s 14ms/step - loss: 1.8433e-04\n",
            "Epoch 163/200\n",
            "38/38 [==============================] - 0s 11ms/step - loss: 1.6389e-04\n",
            "Epoch 164/200\n",
            "38/38 [==============================] - 0s 10ms/step - loss: 1.6511e-04\n",
            "Epoch 165/200\n",
            "38/38 [==============================] - 0s 11ms/step - loss: 1.6666e-04\n",
            "Epoch 166/200\n",
            "38/38 [==============================] - 0s 12ms/step - loss: 1.6790e-04\n",
            "Epoch 167/200\n",
            "38/38 [==============================] - 0s 12ms/step - loss: 1.6780e-04\n",
            "Epoch 168/200\n",
            "38/38 [==============================] - 0s 8ms/step - loss: 1.6457e-04\n",
            "Epoch 169/200\n",
            "38/38 [==============================] - 0s 7ms/step - loss: 1.6254e-04\n",
            "Epoch 170/200\n",
            "38/38 [==============================] - 0s 7ms/step - loss: 1.7190e-04\n",
            "Epoch 171/200\n",
            "38/38 [==============================] - 0s 7ms/step - loss: 1.6153e-04\n",
            "Epoch 172/200\n",
            "38/38 [==============================] - 0s 7ms/step - loss: 1.6543e-04\n",
            "Epoch 173/200\n",
            "38/38 [==============================] - 0s 7ms/step - loss: 1.9052e-04\n",
            "Epoch 174/200\n",
            "38/38 [==============================] - 0s 8ms/step - loss: 1.7061e-04\n",
            "Epoch 175/200\n",
            "38/38 [==============================] - 0s 8ms/step - loss: 1.6886e-04\n",
            "Epoch 176/200\n",
            "38/38 [==============================] - 0s 7ms/step - loss: 1.6587e-04\n",
            "Epoch 177/200\n",
            "38/38 [==============================] - 0s 7ms/step - loss: 1.7938e-04\n",
            "Epoch 178/200\n",
            "38/38 [==============================] - 0s 8ms/step - loss: 1.8305e-04\n",
            "Epoch 179/200\n",
            "38/38 [==============================] - 0s 11ms/step - loss: 1.6525e-04\n",
            "Epoch 180/200\n",
            "38/38 [==============================] - 0s 11ms/step - loss: 1.7817e-04\n",
            "Epoch 181/200\n",
            "38/38 [==============================] - 0s 11ms/step - loss: 1.6787e-04\n",
            "Epoch 182/200\n",
            "38/38 [==============================] - 0s 13ms/step - loss: 1.7847e-04\n",
            "Epoch 183/200\n",
            "38/38 [==============================] - 0s 13ms/step - loss: 1.8708e-04\n",
            "Epoch 184/200\n",
            "38/38 [==============================] - 0s 7ms/step - loss: 1.6540e-04\n",
            "Epoch 185/200\n",
            "38/38 [==============================] - 0s 8ms/step - loss: 1.6933e-04\n",
            "Epoch 186/200\n",
            "38/38 [==============================] - 0s 7ms/step - loss: 1.7125e-04\n",
            "Epoch 187/200\n",
            "38/38 [==============================] - 0s 7ms/step - loss: 1.7067e-04\n",
            "Epoch 188/200\n",
            "38/38 [==============================] - 0s 7ms/step - loss: 1.7921e-04\n",
            "Epoch 189/200\n",
            "38/38 [==============================] - 0s 7ms/step - loss: 1.5965e-04\n",
            "Epoch 190/200\n",
            "38/38 [==============================] - 0s 8ms/step - loss: 1.7968e-04\n",
            "Epoch 191/200\n",
            "38/38 [==============================] - 0s 8ms/step - loss: 1.6302e-04\n",
            "Epoch 192/200\n",
            "38/38 [==============================] - 0s 8ms/step - loss: 1.6425e-04\n",
            "Epoch 193/200\n",
            "38/38 [==============================] - 0s 7ms/step - loss: 1.7532e-04\n",
            "Epoch 194/200\n",
            "38/38 [==============================] - 0s 7ms/step - loss: 1.7400e-04\n",
            "Epoch 195/200\n",
            "38/38 [==============================] - 0s 7ms/step - loss: 1.6209e-04\n",
            "Epoch 196/200\n",
            "38/38 [==============================] - 0s 7ms/step - loss: 1.7689e-04\n",
            "Epoch 197/200\n",
            "38/38 [==============================] - 0s 7ms/step - loss: 1.6199e-04\n",
            "Epoch 198/200\n",
            "38/38 [==============================] - 0s 7ms/step - loss: 1.6868e-04\n",
            "Epoch 199/200\n",
            "38/38 [==============================] - 0s 7ms/step - loss: 1.7366e-04\n",
            "Epoch 200/200\n",
            "38/38 [==============================] - 0s 9ms/step - loss: 1.6582e-04\n"
          ]
        },
        {
          "output_type": "execute_result",
          "data": {
            "text/plain": [
              "<keras.src.callbacks.History at 0x789d3d6c4eb0>"
            ]
          },
          "metadata": {},
          "execution_count": 30
        }
      ]
    },
    {
      "cell_type": "code",
      "source": [
        "model.summary()"
      ],
      "metadata": {
        "colab": {
          "base_uri": "https://localhost:8080/"
        },
        "id": "e5DK8yT4F1Ss",
        "outputId": "4299c297-9edc-4ba6-e7c5-027536009571"
      },
      "execution_count": 31,
      "outputs": [
        {
          "output_type": "stream",
          "name": "stdout",
          "text": [
            "Model: \"sequential\"\n",
            "_________________________________________________________________\n",
            " Layer (type)                Output Shape              Param #   \n",
            "=================================================================\n",
            " simple_rnn (SimpleRNN)      (None, 50)                2600      \n",
            "                                                                 \n",
            " dense (Dense)               (None, 1)                 51        \n",
            "                                                                 \n",
            "=================================================================\n",
            "Total params: 2651 (10.36 KB)\n",
            "Trainable params: 2651 (10.36 KB)\n",
            "Non-trainable params: 0 (0.00 Byte)\n",
            "_________________________________________________________________\n"
          ]
        }
      ]
    },
    {
      "cell_type": "code",
      "source": [
        "dataset_test = pd.read_csv('/content/drive/MyDrive/Colab Notebooks/DEEP LEARNING/ex5/testset.csv')"
      ],
      "metadata": {
        "id": "L2zvcQ_NF1Qw"
      },
      "execution_count": 32,
      "outputs": []
    },
    {
      "cell_type": "code",
      "source": [
        "test_set = dataset_test.iloc[:,1:2].values"
      ],
      "metadata": {
        "id": "kDN2jngyF1PR"
      },
      "execution_count": 33,
      "outputs": []
    },
    {
      "cell_type": "code",
      "source": [
        "test_set.shape"
      ],
      "metadata": {
        "colab": {
          "base_uri": "https://localhost:8080/"
        },
        "id": "ZzsmaUCCF1Nq",
        "outputId": "313a05f7-bd5b-487f-d97d-ffc7cbde1110"
      },
      "execution_count": 34,
      "outputs": [
        {
          "output_type": "execute_result",
          "data": {
            "text/plain": [
              "(125, 1)"
            ]
          },
          "metadata": {},
          "execution_count": 34
        }
      ]
    },
    {
      "cell_type": "code",
      "source": [
        "\n",
        "dataset_total = pd.concat((dataset_train['Open'],dataset_test['Open']),axis=0)\n"
      ],
      "metadata": {
        "id": "ju_Y4tvPF1MO"
      },
      "execution_count": 35,
      "outputs": []
    },
    {
      "cell_type": "code",
      "source": [
        "inputs = dataset_total.values\n",
        "inputs = inputs.reshape(-1,1)\n",
        "inputs_scaled=sc.transform(inputs)\n",
        "X_test = []\n",
        "y_test = []\n",
        "for i in range(60,1384):\n",
        "  X_test.append(inputs_scaled[i-60:i,0])\n",
        "  y_test.append(inputs_scaled[i,0])\n",
        "X_test = np.array(X_test)\n",
        "X_test = np.reshape(X_test,(X_test.shape[0], X_test.shape[1],1))"
      ],
      "metadata": {
        "id": "ozKXqoniF1Kh"
      },
      "execution_count": 36,
      "outputs": []
    },
    {
      "cell_type": "code",
      "source": [
        "X_test.shape"
      ],
      "metadata": {
        "colab": {
          "base_uri": "https://localhost:8080/"
        },
        "id": "XByjCkI1F1IW",
        "outputId": "eed6c257-1b5e-4d7b-a182-edb48b21833c"
      },
      "execution_count": 41,
      "outputs": [
        {
          "output_type": "execute_result",
          "data": {
            "text/plain": [
              "(1324, 60, 1)"
            ]
          },
          "metadata": {},
          "execution_count": 41
        }
      ]
    },
    {
      "cell_type": "code",
      "source": [
        "predicted_stock_price_scaled = model.predict(X_test)\n",
        "predicted_stock_price = sc.inverse_transform(predicted_stock_price_scaled)\n"
      ],
      "metadata": {
        "colab": {
          "base_uri": "https://localhost:8080/"
        },
        "id": "SWPnkhvTF1EP",
        "outputId": "b8155f1d-fc05-4b55-a739-d29941dc18d7"
      },
      "execution_count": 38,
      "outputs": [
        {
          "output_type": "stream",
          "name": "stdout",
          "text": [
            "42/42 [==============================] - 0s 3ms/step\n"
          ]
        }
      ]
    },
    {
      "cell_type": "code",
      "source": [
        "print(\"Name: MOHAMED ROSHAN S          Register Number: 212222040101    \")\n",
        "plt.plot(np.arange(0,1384),inputs, color='red', label = 'Test(Real) Google stock price')\n",
        "plt.plot(np.arange(60,1384),predicted_stock_price, color='blue', label = 'Predicted Google stock price')\n",
        "plt.title('Google Stock Price Prediction')\n",
        "plt.xlabel('Time')\n",
        "plt.ylabel('Google Stock Price')\n",
        "plt.legend()\n",
        "plt.show()"
      ],
      "metadata": {
        "colab": {
          "base_uri": "https://localhost:8080/",
          "height": 490
        },
        "id": "ovirYqsqNHNY",
        "outputId": "85547f5f-55db-49f5-8574-814c1cab49e4"
      },
      "execution_count": 39,
      "outputs": [
        {
          "output_type": "stream",
          "name": "stdout",
          "text": [
            "Name: MOHAMED ROSHAN S          Register Number: 212222040101    \n"
          ]
        },
        {
          "output_type": "display_data",
          "data": {
            "text/plain": [
              "<Figure size 640x480 with 1 Axes>"
            ],
            "image/png": "[encoded data removed]"
          },
          "metadata": {}
        }
      ]
    },
    {
      "cell_type": "code",
      "source": [
        "from sklearn.metrics import mean_squared_error as mse\n",
        "mse = mse(y_test,predicted_stock_price)\n",
        "print(\"Mean squared Error : \",mse)"
      ],
      "metadata": {
        "colab": {
          "base_uri": "https://localhost:8080/"
        },
        "id": "IVQTMcCz5OU9",
        "outputId": "7aadbff4-486e-4037-ad26-0ae1899f32f5"
      },
      "execution_count": 40,
      "outputs": [
        {
          "output_type": "stream",
          "name": "stdout",
          "text": [
            "Mean squared Error :  536856.0355654429\n"
          ]
        }
      ]
    },
    {
      "cell_type": "code",
      "source": [],
      "metadata": {
        "id": "hdc3c7IOMCQg"
      },
      "execution_count": null,
      "outputs": []
    }
  ]
}